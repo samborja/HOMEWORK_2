{
 "cells": [
  {
   "cell_type": "code",
   "execution_count": 5,
   "id": "b4514192",
   "metadata": {},
   "outputs": [],
   "source": [
    "import numpy as np"
   ]
  },
  {
   "cell_type": "code",
   "execution_count": 8,
   "id": "b13db8ef",
   "metadata": {},
   "outputs": [
    {
     "name": "stdout",
     "output_type": "stream",
     "text": [
      "Введите размер матрицы через пробел\n",
      "\n",
      "7 2\n"
     ]
    },
    {
     "data": {
      "text/plain": [
       "array([0., 0., 1., 0., 0., 0., 0.])"
      ]
     },
     "execution_count": 8,
     "metadata": {},
     "output_type": "execute_result"
    }
   ],
   "source": [
    "#Задача No.1\n",
    "\n",
    "print(\"Введите размер матрицы через пробел\\n\")\n",
    "\n",
    "n, x = map(int, input().split())\n",
    "\n",
    "vec = np.zeros(n)\n",
    "vec[x] = 1\n",
    "\n",
    "vec"
   ]
  },
  {
   "cell_type": "code",
   "execution_count": 3,
   "id": "682ca129",
   "metadata": {},
   "outputs": [
    {
     "name": "stdout",
     "output_type": "stream",
     "text": [
      "Введите три числа через пробел\n",
      "0 20 2\n"
     ]
    },
    {
     "data": {
      "text/plain": [
       "array([ 0,  2,  4,  6,  8, 10, 12, 14, 16, 18])"
      ]
     },
     "execution_count": 3,
     "metadata": {},
     "output_type": "execute_result"
    }
   ],
   "source": [
    "#Задача No.2\n",
    "\n",
    "print(\"Введите три числа через пробел\")\n",
    "\n",
    "n, m, s = map(int, input().split())\n",
    "\n",
    "vec = np.arange(n, m, s)\n",
    "vec"
   ]
  },
  {
   "cell_type": "code",
   "execution_count": 7,
   "id": "702a7685",
   "metadata": {},
   "outputs": [
    {
     "data": {
      "text/plain": [
       "array([[4, 6, 1],\n",
       "       [7, 7, 6],\n",
       "       [6, 2, 7]])"
      ]
     },
     "execution_count": 7,
     "metadata": {},
     "output_type": "execute_result"
    }
   ],
   "source": [
    "#Задача No.3\n",
    "\n",
    "np.random.randint(low = 0, high = 8, size = (3,3))"
   ]
  },
  {
   "cell_type": "code",
   "execution_count": 12,
   "id": "2fb97017",
   "metadata": {},
   "outputs": [
    {
     "name": "stdout",
     "output_type": "stream",
     "text": [
      "max 0.7713\n",
      "min 0.1981\n",
      "mean 0.4741\n",
      "sum 1.9413\n"
     ]
    }
   ],
   "source": [
    "#Задача No.4\n",
    "\n",
    "np.random.seed(seed = 10)\n",
    "mat = np.random.rand(4, 4)\n",
    "\n",
    "print(f'max {np.max(mat[0, :]).round(4)}')\n",
    "print(f'min {np.min(mat[1, :]).round(4)}')\n",
    "print(f'mean {np.mean(mat[2, :]).round(4)}')\n",
    "print(f'sum {np.sum(mat[3, :]).round(4)}')"
   ]
  },
  {
   "cell_type": "code",
   "execution_count": 13,
   "id": "bdca34a1",
   "metadata": {},
   "outputs": [
    {
     "data": {
      "text/plain": [
       "array([[1., 0., 0., 0., 0.],\n",
       "       [0., 1., 0., 0., 0.],\n",
       "       [0., 0., 1., 0., 0.],\n",
       "       [0., 0., 0., 1., 0.],\n",
       "       [0., 0., 0., 0., 1.]])"
      ]
     },
     "execution_count": 13,
     "metadata": {},
     "output_type": "execute_result"
    }
   ],
   "source": [
    "#Задача No.5\n",
    "\n",
    "np.eye(5, 5)"
   ]
  },
  {
   "cell_type": "code",
   "execution_count": 14,
   "id": "2acb38c3",
   "metadata": {},
   "outputs": [
    {
     "name": "stdout",
     "output_type": "stream",
     "text": [
      "Max No.: 0.9876\n"
     ]
    }
   ],
   "source": [
    "#Задача No.6\n",
    "\n",
    "mat = np.random.rand(6, 6, 6)\n",
    "print(\"Max No.: \" + str(np.max(mat).round(4)))"
   ]
  },
  {
   "cell_type": "code",
   "execution_count": 15,
   "id": "6907279a",
   "metadata": {},
   "outputs": [
    {
     "data": {
      "text/plain": [
       "'Невозможно перемножать'"
      ]
     },
     "execution_count": 15,
     "metadata": {},
     "output_type": "execute_result"
    }
   ],
   "source": [
    "#Задача No.7\n",
    "\n",
    "def cond_and_mult_and_trans(A, B):\n",
    "    if A.shape[1] == B.shape[0]:\n",
    "        return np.transpose(A @ B)\n",
    "    \n",
    "    return \"Невозможно перемножать\"\n",
    "\n",
    "A = np.array([[1, 2], [3, 4]])\n",
    "B = np.array([[1, 2, 3], [3, 4, 5], [2, 2, 3]])\n",
    "\n",
    "cond_and_mult_and_trans(A, B)"
   ]
  },
  {
   "cell_type": "code",
   "execution_count": 16,
   "id": "4f68e9df",
   "metadata": {},
   "outputs": [
    {
     "data": {
      "text/plain": [
       "array([[ 7, 15],\n",
       "       [10, 22]])"
      ]
     },
     "execution_count": 16,
     "metadata": {},
     "output_type": "execute_result"
    }
   ],
   "source": [
    "A = np.array([[1, 2], [3, 4]])\n",
    "B = np.array([[1, 2], [3, 4]])\n",
    "\n",
    "cond_and_mult_and_trans(A, B)"
   ]
  },
  {
   "cell_type": "code",
   "execution_count": 17,
   "id": "dffc43ac",
   "metadata": {},
   "outputs": [
    {
     "name": "stdout",
     "output_type": "stream",
     "text": [
      "Значение функции 0.7723\n",
      "x_min -0.3128\n",
      "y_min -0.1569\n",
      "Производная в x_min 0.0008\n",
      "Производная в y_min -0.0002\n",
      "Градиент 0.000963264\n"
     ]
    }
   ],
   "source": [
    "#Задача No.8\n",
    "\n",
    "def func(x, y):\n",
    "    return x * x + 2.0 * y * y + np.exp (x + y)\n",
    "\n",
    "def f_x(func, x, y, eps = 0.001):\n",
    "    return (func(x + eps, y) - func(x, y)) / eps\n",
    "\n",
    "def f_y(func, x, y, eps = 0.001):\n",
    "    return (func(x, y + eps) - func(x, y)) / eps\n",
    "\n",
    "EPS = 0.001\n",
    "INIT = np.array([1.0, -1.75])\n",
    "LEARN_RATE = 0.05\n",
    "ITER = 10000\n",
    "\n",
    "X_prev = INIT\n",
    "delta = 1\n",
    "for i in range(ITER):\n",
    "    if delta > EPS:\n",
    "        fxx = f_x(func, X_prev[0], X_prev[1], eps=0.001)\n",
    "        fyy = f_y(func, X_prev[0], X_prev[1], eps=0.001)\n",
    "        grad = np.array([fxx, fyy])\n",
    "        \n",
    "        X_next = X_prev - LEARN_RATE * grad\n",
    "        \n",
    "        delta = np.sqrt(np.sum(grad * grad))\n",
    "        \n",
    "        X_prev = X_next\n",
    "        \n",
    "    else:\n",
    "        break\n",
    "\n",
    "print(f\"Значение функции {func(X_next[0], X_next[1]).round(4)}\")\n",
    "print(f\"x_min {X_next[0].round(4)}\")\n",
    "print(f\"y_min {X_next[1].round(4)}\")\n",
    "print(f\"Производная в x_min {f_x(func, X_next[0], X_next[1], eps=0.001).round(4)}\")\n",
    "print(f\"Производная в y_min {f_y(func, X_next[0], X_next[1], eps=0.001).round(4)}\")\n",
    "print(f\"Градиент {np.sqrt((grad**2).sum()).round(9)}\")"
   ]
  }
 ],
 "metadata": {
  "kernelspec": {
   "display_name": "Python 3 (ipykernel)",
   "language": "python",
   "name": "python3"
  },
  "language_info": {
   "codemirror_mode": {
    "name": "ipython",
    "version": 3
   },
   "file_extension": ".py",
   "mimetype": "text/x-python",
   "name": "python",
   "nbconvert_exporter": "python",
   "pygments_lexer": "ipython3",
   "version": "3.9.7"
  }
 },
 "nbformat": 4,
 "nbformat_minor": 5
}
